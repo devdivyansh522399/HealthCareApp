{
 "cells": [
  {
   "cell_type": "code",
   "execution_count": 1,
   "metadata": {},
   "outputs": [],
   "source": [
    "import numpy as np\n",
    "import pandas as pd\n",
    "from sklearn import ensemble\n",
    "from sklearn.model_selection import train_test_split\n",
    "from sklearn.metrics import accuracy_score, classification_report, confusion_matrix\n",
    "import joblib"
   ]
  },
  {
   "cell_type": "code",
   "execution_count": 2,
   "metadata": {},
   "outputs": [],
   "source": [
    "df = pd.read_csv(r\"C:\\\\Users\\\\divya\\\\OneDrive\\\\Desktop\\\\HealthCareApp\\\\HealthCareApp\\\\Data\\\\cancer.csv\")\n",
    "df.drop(df.columns[[0,-1]], axis=1, inplace=True)\n",
    "# Split the features data and the target \n",
    "Xdata = df.drop(['diagnosis'], axis=1)\n",
    "ydata = df['diagnosis']"
   ]
  },
  {
   "cell_type": "code",
   "execution_count": 3,
   "metadata": {},
   "outputs": [
    {
     "name": "stdout",
     "output_type": "stream",
     "text": [
      "Index(['concave points_mean', 'area_mean', 'radius_mean', 'perimeter_mean',\n",
      "       'concavity_mean'],\n",
      "      dtype='object')\n"
     ]
    }
   ],
   "source": [
    "# Encoding the target value \n",
    "yenc = np.asarray([1 if c == 'M' else 0 for c in ydata])\n",
    "cols = ['concave points_mean','area_mean','radius_mean','perimeter_mean','concavity_mean',]\n",
    "Xdata = df[cols]\n",
    "print(Xdata.columns)"
   ]
  },
  {
   "cell_type": "code",
   "execution_count": 4,
   "metadata": {},
   "outputs": [
    {
     "name": "stdout",
     "output_type": "stream",
     "text": [
      "Shape training set: X:(398, 5), y:(398,)\n",
      "Shape test set: X:(171, 5), y:(171,)\n"
     ]
    }
   ],
   "source": [
    "X_train, X_test, y_train, y_test = train_test_split(Xdata, yenc, \n",
    "                                                    test_size=0.3,\n",
    "                                                    random_state=43)\n",
    "print('Shape training set: X:{}, y:{}'.format(X_train.shape, y_train.shape))\n",
    "print('Shape test set: X:{}, y:{}'.format(X_test.shape, y_test.shape))\n"
   ]
  },
  {
   "cell_type": "code",
   "execution_count": 5,
   "metadata": {},
   "outputs": [
    {
     "name": "stdout",
     "output_type": "stream",
     "text": [
      "Accuracy : 0.9473684210526315\n"
     ]
    }
   ],
   "source": [
    "model = ensemble.RandomForestClassifier()\n",
    "model.fit(X_train, y_train)\n",
    "y_pred = model.predict(X_test)\n",
    "print('Accuracy : {}'.format(accuracy_score(y_test, y_pred)))"
   ]
  },
  {
   "cell_type": "code",
   "execution_count": 7,
   "metadata": {},
   "outputs": [
    {
     "name": "stdout",
     "output_type": "stream",
     "text": [
      "Classification report\n",
      "---------------------\n",
      "              precision    recall  f1-score   support\n",
      "\n",
      "           0       0.97      0.95      0.96       114\n",
      "           1       0.90      0.95      0.92        57\n",
      "\n",
      "    accuracy                           0.95       171\n",
      "   macro avg       0.94      0.95      0.94       171\n",
      "weighted avg       0.95      0.95      0.95       171\n",
      "\n",
      "_____________________\n"
     ]
    },
    {
     "data": {
      "text/plain": [
       "['C:\\\\Users\\\\divya\\\\OneDrive\\\\Desktop\\\\HealthCareApp\\\\HealthCareApp\\\\CancerAPI\\\\cancer.pkl']"
      ]
     },
     "execution_count": 7,
     "metadata": {},
     "output_type": "execute_result"
    }
   ],
   "source": [
    "clf_report = classification_report(y_test, y_pred)\n",
    "print('Classification report')\n",
    "print(\"---------------------\")\n",
    "print(clf_report)\n",
    "print(\"_____________________\")\n",
    "\n",
    "joblib.dump(model,\"C:\\\\Users\\\\divya\\\\OneDrive\\\\Desktop\\\\HealthCareApp\\\\HealthCareApp\\\\CancerAPI\\\\cancer.pkl\")"
   ]
  },
  {
   "cell_type": "code",
   "execution_count": 15,
   "metadata": {},
   "outputs": [],
   "source": [
    "loadmodel = joblib.load('C:\\\\Users\\\\divya\\\\OneDrive\\\\Desktop\\\\HealthCareApp\\\\HealthCareApp\\\\CancerAPI\\\\cancer.pkl')\n",
    "y_pred = loadmodel.predict(X_test)"
   ]
  },
  {
   "cell_type": "code",
   "execution_count": 12,
   "metadata": {},
   "outputs": [],
   "source": [
    "from sklearn.metrics import accuracy_score, confusion_matrix"
   ]
  },
  {
   "cell_type": "code",
   "execution_count": 16,
   "metadata": {},
   "outputs": [
    {
     "data": {
      "text/plain": [
       "0.9473684210526315"
      ]
     },
     "execution_count": 16,
     "metadata": {},
     "output_type": "execute_result"
    }
   ],
   "source": [
    "accuracy_score(y_test, y_pred)"
   ]
  },
  {
   "cell_type": "code",
   "execution_count": null,
   "metadata": {},
   "outputs": [],
   "source": []
  }
 ],
 "metadata": {
  "kernelspec": {
   "display_name": "Python 3.10.5 64-bit",
   "language": "python",
   "name": "python3"
  },
  "language_info": {
   "codemirror_mode": {
    "name": "ipython",
    "version": 3
   },
   "file_extension": ".py",
   "mimetype": "text/x-python",
   "name": "python",
   "nbconvert_exporter": "python",
   "pygments_lexer": "ipython3",
   "version": "3.10.5"
  },
  "orig_nbformat": 4,
  "vscode": {
   "interpreter": {
    "hash": "b89eb163356ecec32b39b5fa0afb59c6df6327d25999fa4ae2b1c90491fcb0e1"
   }
  }
 },
 "nbformat": 4,
 "nbformat_minor": 2
}
